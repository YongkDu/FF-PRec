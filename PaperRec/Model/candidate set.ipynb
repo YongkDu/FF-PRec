{
 "cells": [
  {
   "cell_type": "code",
   "execution_count": 1,
   "metadata": {},
   "outputs": [],
   "source": [
    "import numpy as np\n",
    "import os\n",
    "import torch\n",
    "import pandas as pd\n",
    "import csv\n"
   ]
  },
  {
   "cell_type": "code",
   "execution_count": 56,
   "metadata": {},
   "outputs": [],
   "source": [
    "info = pd.read_csv('/home/duyongkang/aminer/aminer.paper.info.csv')\n",
    "ppr_list = info['paper_id'].values.tolist()             # 论文列表\n",
    "text_list = info['text'].values.tolist()                # 文本列表\n",
    "cit_list = info['citations'].values.tolist()            #引用列表\n",
    "confer_list = info['conference'].values.tolist()        #会议列表\n",
    "\n",
    "# 论文的引用\n",
    "cit_dic = {}      # key为论文编号，value为引用论文编号\n",
    "for i in range(len(ppr_list)):\n",
    "    ppr = 'p' + str(ppr_list[i])\n",
    "    cit_dic[ppr] = []\n",
    "    lenth = len(cit_list[i])\n",
    "    if lenth == 1:\n",
    "        continue\n",
    "    elif lenth > 1 and lenth < 8:\n",
    "        cit = 'p' + str(cit_list[i])\n",
    "        cit_dic[ppr].append(cit)\n",
    "    elif lenth > 8:\n",
    "        cit = cit_list[i].split(';')\n",
    "        cit = ['p'+num for num in cit]\n",
    "        cit_dic[ppr].extend(cit)\n",
    "        \n",
    "def Cit_Paper( paper ):\n",
    "    return cit_dic[paper]\n",
    "\n",
    "# 同一个会议的论文\n",
    "pc_dic = dict(zip(ppr_list,confer_list))              #key为论文，value为会议\n",
    "confer_dic = {}\n",
    "for i in range(len(ppr_list)):\n",
    "    confer = confer_list[i]\n",
    "    ppr = 'p' + str(ppr_list[i])\n",
    "    if confer not in confer_dic.keys():\n",
    "        confer_dic[confer] = []\n",
    "    confer_dic[confer].append(ppr)\n",
    "import copy   \n",
    "def Same_Confer_Paper( paper ):\n",
    "    confer = pc_dic[int(paper[1:])]\n",
    "    temp = copy.deepcopy(confer_dic[confer])\n",
    "    temp.remove(paper)\n",
    "    return temp"
   ]
  },
  {
   "cell_type": "code",
   "execution_count": 165,
   "metadata": {
    "scrolled": true
   },
   "outputs": [],
   "source": [
    "# p904181\n",
    "list1 = Same_Confer_Paper('p904181')\n",
    "list2 = Cit_Paper('p904181')\n",
    "list1.extend(list2)\n",
    "list1 = list(set(list1))"
   ]
  },
  {
   "cell_type": "code",
   "execution_count": 29,
   "metadata": {},
   "outputs": [],
   "source": [
    "# 通过a-p-a-p找到的论文\n",
    "ap_info = pd.read_csv('/home/duyongkang/aminer/aminer.author.paper.link.csv')\n",
    "ppr_list = ap_info['paper_id'].values.tolist()\n",
    "auth_list = ap_info['author_id'].values.tolist()\n",
    "\n",
    "# 统计每篇文章的作者，key为论文标号，value为作者列表\n",
    "pa_dic = {}\n",
    "for i in range(len(ppr_list)):\n",
    "    p = 'p' + str(ppr_list[i])\n",
    "    a = 'a' + str(auth_list[i])\n",
    "    try:\n",
    "        pa_dic[p].append(a)\n",
    "    except KeyError:\n",
    "        pa_dic[p] = []\n",
    "        pa_dic[p].append(a)\n",
    "\n",
    "# 统计每个作者的文章，key为作者编号，value为论文列表\n",
    "ap_dic = {}\n",
    "for i in range(len(auth_list)):\n",
    "    p = 'p' + str(ppr_list[i])\n",
    "    a = 'a' + str(auth_list[i])\n",
    "    try:\n",
    "        ap_dic[a].append(p)\n",
    "    except KeyError:\n",
    "        ap_dic[a] = []\n",
    "        ap_dic[a].append(p)"
   ]
  },
  {
   "cell_type": "code",
   "execution_count": 34,
   "metadata": {},
   "outputs": [
    {
     "data": {
      "text/plain": [
       "['a867104', 'a99940']"
      ]
     },
     "execution_count": 34,
     "metadata": {},
     "output_type": "execute_result"
    }
   ],
   "source": [
    "# 在pa字典里找到该论文的其他作者，再回到ap字典中找这些作者写作的论文\n",
    "paper = 'p1872287'\n",
    "authors = pa_dic[paper]\n",
    "authors"
   ]
  },
  {
   "cell_type": "code",
   "execution_count": 36,
   "metadata": {},
   "outputs": [
    {
     "data": {
      "text/plain": [
       "['a867104']"
      ]
     },
     "execution_count": 36,
     "metadata": {},
     "output_type": "execute_result"
    }
   ],
   "source": [
    "authors.remove('a99940')\n",
    "authors"
   ]
  },
  {
   "cell_type": "code",
   "execution_count": 37,
   "metadata": {},
   "outputs": [
    {
     "data": {
      "text/plain": [
       "['p1227651', 'p1872287']"
      ]
     },
     "execution_count": 37,
     "metadata": {},
     "output_type": "execute_result"
    }
   ],
   "source": [
    "other_papers = ap_dic[authors[0]]\n",
    "other_papers"
   ]
  }
 ],
 "metadata": {
  "kernelspec": {
   "display_name": "Python 3",
   "language": "python",
   "name": "python3"
  },
  "language_info": {
   "codemirror_mode": {
    "name": "ipython",
    "version": 3
   },
   "file_extension": ".py",
   "mimetype": "text/x-python",
   "name": "python",
   "nbconvert_exporter": "python",
   "pygments_lexer": "ipython3",
   "version": "3.6.12"
  }
 },
 "nbformat": 4,
 "nbformat_minor": 4
}
