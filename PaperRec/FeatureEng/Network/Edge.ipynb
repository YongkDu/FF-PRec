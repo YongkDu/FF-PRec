{
 "cells": [
  {
   "cell_type": "code",
   "execution_count": 1,
   "metadata": {},
   "outputs": [],
   "source": [
    "import numpy as np\n",
    "from sklearn.model_selection import train_test_split\n",
    "import os\n",
    "import torch\n",
    "import pandas as pd\n",
    "import csv\n",
    "info_a = pd.read_csv('/home/duyongkang/aminer/aminer.author.expertise.tag.csv')\n",
    "info_p = pd.read_csv('/home/duyongkang/aminer/aminer.author.paper.link.csv')\n",
    "relation = pd.read_csv('/home/duyongkang/aminer/aminer.paper.info.csv')"
   ]
  },
  {
   "cell_type": "code",
   "execution_count": 2,
   "metadata": {},
   "outputs": [],
   "source": [
    "#a-p边\n",
    "paper_id = info_p['paper_id']\n",
    "author_id = info_p['author_id']"
   ]
  },
  {
   "cell_type": "code",
   "execution_count": 3,
   "metadata": {},
   "outputs": [],
   "source": [
    "paper_list = paper_id.values.tolist()\n",
    "author_list = author_id.values.tolist()\n",
    "outfilename = \"./edge.txt\"\n",
    "with open(outfilename, 'w') as outfile:\n",
    "    for i in range(len(paper_list)):\n",
    "        p = str(paper_list[i])\n",
    "        a = str(author_list[i])\n",
    "        outline = p + '\t' + a + '\t' + \"p-a\" + '\t'+ \"1\"\n",
    "        outfile.write(outline + \"\\n\")\n",
    "        outline = a + '\t' + p + '\t' + \"a-p\" + '\t'+ \"1\"\n",
    "        outfile.write(outline + \"\\n\")"
   ]
  },
  {
   "cell_type": "code",
   "execution_count": 4,
   "metadata": {},
   "outputs": [],
   "source": [
    "#p-c边\n",
    "paper_id = relation['paper_id']\n",
    "conference = relation['conference']"
   ]
  },
  {
   "cell_type": "code",
   "execution_count": 5,
   "metadata": {},
   "outputs": [],
   "source": [
    "paper_list = paper_id.values.tolist()\n",
    "conference_list = conference.values.tolist()\n",
    "c_id = []\n",
    "for i in range(len(conference_list)):\n",
    "    id = \"100\" + str(i+1)\n",
    "    c_id.append(id);\n",
    "\n",
    "outfilename = \"./edge.txt\"\n",
    "with open(outfilename, 'a') as outfile:\n",
    "    for i in range(len(paper_list)):\n",
    "        p = str(paper_list[i])\n",
    "        c = str(c_id[i])\n",
    "        outline = p + '\t' + c + '\t' + \"p-c\" + '\t'+ \"1\"\n",
    "        outfile.write(outline + \"\\n\")\n",
    "        outline = c + '\t' + p + '\t' + \"c-p\" + '\t'+ \"1\"\n",
    "        outfile.write(outline + \"\\n\")"
   ]
  },
  {
   "cell_type": "code",
   "execution_count": null,
   "metadata": {},
   "outputs": [],
   "source": []
  }
 ],
 "metadata": {
  "kernelspec": {
   "display_name": "Python 3",
   "language": "python",
   "name": "python3"
  },
  "language_info": {
   "codemirror_mode": {
    "name": "ipython",
    "version": 3
   },
   "file_extension": ".py",
   "mimetype": "text/x-python",
   "name": "python",
   "nbconvert_exporter": "python",
   "pygments_lexer": "ipython3",
   "version": "3.6.12"
  }
 },
 "nbformat": 4,
 "nbformat_minor": 4
}
