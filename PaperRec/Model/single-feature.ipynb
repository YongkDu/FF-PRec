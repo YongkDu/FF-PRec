{
 "cells": [
  {
   "cell_type": "code",
   "execution_count": 1,
   "metadata": {},
   "outputs": [],
   "source": [
    "import torch\n",
    "from torch import tanh\n",
    "from torch import nn\n",
    "import pandas as pd\n",
    "import numpy as np\n",
    "from sklearn.utils import shuffle\n",
    "text_input = '/home/duyongkang/PaperRec/Data/Glove.pkl'"
   ]
  },
  {
   "cell_type": "code",
   "execution_count": 2,
   "metadata": {},
   "outputs": [],
   "source": [
    "data_t = pd.read_pickle(text_input)"
   ]
  },
  {
   "cell_type": "code",
   "execution_count": 3,
   "metadata": {},
   "outputs": [],
   "source": [
    "t_dic = data_t[['node','vector']].set_index('node').to_dict()['vector']"
   ]
  },
  {
   "cell_type": "code",
   "execution_count": 4,
   "metadata": {},
   "outputs": [],
   "source": [
    "from numpy import multiply\n",
    "info = pd.read_csv('/home/duyongkang/aminer/aminer.author.paper.link.csv')\n",
    "ppr_list = info['paper_id'].values.tolist()\n",
    "auth_list = info['author_id'].values.tolist()"
   ]
  },
  {
   "cell_type": "code",
   "execution_count": 5,
   "metadata": {},
   "outputs": [],
   "source": [
    "ppr = []\n",
    "auth = []\n",
    "for i in range(len(ppr_list)):\n",
    "    p = 'p' + str(ppr_list[i])\n",
    "    a = 'a' + str(auth_list[i])\n",
    "    if p in t_dic.keys() and a in t_dic.keys():\n",
    "        ppr.append(p)\n",
    "        auth.append(a)\n",
    "    else:\n",
    "        continue"
   ]
  },
  {
   "cell_type": "code",
   "execution_count": 6,
   "metadata": {},
   "outputs": [],
   "source": [
    "from pandas.core.frame import DataFrame\n",
    "data_dic = {\"author\":auth, \"paper\":ppr}\n",
    "dataset = DataFrame(data_dic)"
   ]
  },
  {
   "cell_type": "code",
   "execution_count": 7,
   "metadata": {},
   "outputs": [],
   "source": [
    "# 统计每篇文章的作者，key为论文标号，value为作者列表\n",
    "pa_dic = {}\n",
    "for i in range(len(ppr_list)):\n",
    "    p = 'p' + str(ppr_list[i])\n",
    "    a = 'a' + str(auth_list[i])\n",
    "    try:\n",
    "        pa_dic[p].append(a)\n",
    "    except KeyError:\n",
    "        pa_dic[p] = []\n",
    "        pa_dic[p].append(a)\n",
    "\n",
    "# 统计每个作者的文章，key为作者编号，value为论文列表\n",
    "ap_dic = {}\n",
    "for i in range(len(auth_list)):\n",
    "    p = 'p' + str(ppr_list[i])\n",
    "    a = 'a' + str(auth_list[i])\n",
    "    try:\n",
    "        ap_dic[a].append(p)\n",
    "    except KeyError:\n",
    "        ap_dic[a] = []\n",
    "        ap_dic[a].append(p)"
   ]
  },
  {
   "cell_type": "code",
   "execution_count": 8,
   "metadata": {},
   "outputs": [
    {
     "name": "stderr",
     "output_type": "stream",
     "text": [
      "/home/duyongkang/.conda/envs/gpuenv/lib/python3.6/site-packages/ipykernel_launcher.py:2: SettingWithCopyWarning: \n",
      "A value is trying to be set on a copy of a slice from a DataFrame.\n",
      "Try using .loc[row_indexer,col_indexer] = value instead\n",
      "\n",
      "See the caveats in the documentation: https://pandas.pydata.org/pandas-docs/stable/user_guide/indexing.html#returning-a-view-versus-a-copy\n",
      "  \n"
     ]
    },
    {
     "data": {
      "text/html": [
       "<div>\n",
       "<style scoped>\n",
       "    .dataframe tbody tr th:only-of-type {\n",
       "        vertical-align: middle;\n",
       "    }\n",
       "\n",
       "    .dataframe tbody tr th {\n",
       "        vertical-align: top;\n",
       "    }\n",
       "\n",
       "    .dataframe thead th {\n",
       "        text-align: right;\n",
       "    }\n",
       "</style>\n",
       "<table border=\"1\" class=\"dataframe\">\n",
       "  <thead>\n",
       "    <tr style=\"text-align: right;\">\n",
       "      <th></th>\n",
       "      <th>author</th>\n",
       "      <th>paper</th>\n",
       "      <th>label</th>\n",
       "    </tr>\n",
       "  </thead>\n",
       "  <tbody>\n",
       "    <tr>\n",
       "      <th>0</th>\n",
       "      <td>a678283</td>\n",
       "      <td>p782</td>\n",
       "      <td>1</td>\n",
       "    </tr>\n",
       "    <tr>\n",
       "      <th>1</th>\n",
       "      <td>a644976</td>\n",
       "      <td>p872</td>\n",
       "      <td>1</td>\n",
       "    </tr>\n",
       "    <tr>\n",
       "      <th>2</th>\n",
       "      <td>a107969</td>\n",
       "      <td>p872</td>\n",
       "      <td>1</td>\n",
       "    </tr>\n",
       "    <tr>\n",
       "      <th>3</th>\n",
       "      <td>a16959</td>\n",
       "      <td>p977</td>\n",
       "      <td>1</td>\n",
       "    </tr>\n",
       "    <tr>\n",
       "      <th>4</th>\n",
       "      <td>a500399</td>\n",
       "      <td>p1014</td>\n",
       "      <td>1</td>\n",
       "    </tr>\n",
       "    <tr>\n",
       "      <th>...</th>\n",
       "      <td>...</td>\n",
       "      <td>...</td>\n",
       "      <td>...</td>\n",
       "    </tr>\n",
       "    <tr>\n",
       "      <th>81531</th>\n",
       "      <td>a19813</td>\n",
       "      <td>p1728161</td>\n",
       "      <td>1</td>\n",
       "    </tr>\n",
       "    <tr>\n",
       "      <th>81532</th>\n",
       "      <td>a782515</td>\n",
       "      <td>p1728161</td>\n",
       "      <td>1</td>\n",
       "    </tr>\n",
       "    <tr>\n",
       "      <th>81533</th>\n",
       "      <td>a1456526</td>\n",
       "      <td>p1728161</td>\n",
       "      <td>1</td>\n",
       "    </tr>\n",
       "    <tr>\n",
       "      <th>81534</th>\n",
       "      <td>a688</td>\n",
       "      <td>p1728161</td>\n",
       "      <td>1</td>\n",
       "    </tr>\n",
       "    <tr>\n",
       "      <th>81535</th>\n",
       "      <td>a573987</td>\n",
       "      <td>p1728169</td>\n",
       "      <td>1</td>\n",
       "    </tr>\n",
       "  </tbody>\n",
       "</table>\n",
       "<p>81536 rows × 3 columns</p>\n",
       "</div>"
      ],
      "text/plain": [
       "         author     paper  label\n",
       "0       a678283      p782      1\n",
       "1       a644976      p872      1\n",
       "2       a107969      p872      1\n",
       "3        a16959      p977      1\n",
       "4       a500399     p1014      1\n",
       "...         ...       ...    ...\n",
       "81531    a19813  p1728161      1\n",
       "81532   a782515  p1728161      1\n",
       "81533  a1456526  p1728161      1\n",
       "81534      a688  p1728161      1\n",
       "81535   a573987  p1728169      1\n",
       "\n",
       "[81536 rows x 3 columns]"
      ]
     },
     "execution_count": 8,
     "metadata": {},
     "output_type": "execute_result"
    }
   ],
   "source": [
    "df_train=dataset[:int(0.8*len(dataset))]\n",
    "df_train['label'] = 1\n",
    "df_train"
   ]
  },
  {
   "cell_type": "code",
   "execution_count": 9,
   "metadata": {},
   "outputs": [],
   "source": [
    "import random\n",
    "mul = []\n",
    "lenth = len(df_train)\n",
    "for i in range(lenth):\n",
    "    a = df_train.author[i]\n",
    "    while(1):\n",
    "        # 生成随机论文\n",
    "        p = dataset.paper[random.randint(0,len(dataset)-1)]\n",
    "        #判断随机找到的论文是否在该作者的论文列表中\n",
    "        if p in ap_dic[a] :\n",
    "            continue\n",
    "        else:\n",
    "            break\n",
    "    #将随机作者和该论文向量点乘\n",
    "    new = pd.DataFrame({'author':a,'paper':p,'label':0},index=[1])\n",
    "    df_train = df_train.append(new,ignore_index=True)   # ignore_index=True,表示不按原来的索引，从0开始自动递增"
   ]
  },
  {
   "cell_type": "code",
   "execution_count": null,
   "metadata": {},
   "outputs": [],
   "source": [
    "mul = []\n",
    "for i in range(len(df_train)):\n",
    "    a = df_train.author[i]\n",
    "    p = df_train.paper[i]\n",
    "    v = multiply(t_dic[a],t_dic[p])\n",
    "    mul.append(v)\n",
    "\n",
    "df_train['vector'] = mul"
   ]
  },
  {
   "cell_type": "markdown",
   "metadata": {},
   "source": [
    "## 测试集"
   ]
  },
  {
   "cell_type": "code",
   "execution_count": 12,
   "metadata": {},
   "outputs": [],
   "source": [
    "df_test=dataset[int(0.8*len(dataset) ):]\n",
    "df_test = df_test.sort_values(by=\"author\" , ascending=False) #by 指定列 ascending\n",
    "df_test = df_test.reset_index(drop=True)\n",
    "df_test['label'] = 1"
   ]
  },
  {
   "cell_type": "code",
   "execution_count": 15,
   "metadata": {},
   "outputs": [],
   "source": [
    "count = {}\n",
    "ap_test = {}\n",
    "for i in range(len(df_test)):    \n",
    "    try:\n",
    "        count[df_test.author[i]]+=1\n",
    "        ap_test[df_test.author[i]].append(df_test.paper[i])\n",
    "    except:\n",
    "        count[df_test.author[i]] = 0\n",
    "        ap_test[df_test.author[i]] = []"
   ]
  },
  {
   "cell_type": "markdown",
   "metadata": {},
   "source": [
    "## 添加负样本"
   ]
  },
  {
   "cell_type": "code",
   "execution_count": null,
   "metadata": {},
   "outputs": [],
   "source": [
    "import copy\n",
    "info = pd.read_csv('/home/duyongkang/aminer/aminer.paper.info.csv')\n",
    "ppr_list = info['paper_id'].values.tolist()             # 论文列表\n",
    "text_list = info['text'].values.tolist()                # 文本列表\n",
    "cit_list = info['citations'].values.tolist()            #引用列表\n",
    "confer_list = info['conference'].values.tolist()        #会议列表\n",
    "\n",
    "# 论文的引用\n",
    "cit_dic = {}      # key为论文编号，value为引用论文编号\n",
    "for i in range(len(ppr_list)):\n",
    "    ppr = 'p' + str(ppr_list[i])\n",
    "    cit_dic[ppr] = []\n",
    "    lenth = len(cit_list[i])\n",
    "    if lenth == 1:\n",
    "        continue\n",
    "    elif lenth > 1 and lenth < 8:\n",
    "        cit = 'p' + str(cit_list[i])\n",
    "        cit_dic[ppr].append(cit)\n",
    "    elif lenth > 8:\n",
    "        cit = cit_list[i].split(';')\n",
    "        cit = ['p'+num for num in cit]\n",
    "        cit_dic[ppr].extend(cit)\n",
    "        \n",
    "def Cit_Paper( paper ):\n",
    "    return cit_dic[paper]\n",
    "\n",
    "# 同一个会议的论文\n",
    "pc_dic = dict(zip(ppr_list,confer_list))              #key为论文，value为会议\n",
    "confer_dic = {}\n",
    "for i in range(len(ppr_list)):\n",
    "    confer = confer_list[i]\n",
    "    ppr = 'p' + str(ppr_list[i])\n",
    "    if confer not in confer_dic.keys():\n",
    "        confer_dic[confer] = []\n",
    "    confer_dic[confer].append(ppr)\n",
    "    \n",
    "def Same_Confer_Paper( paper ):\n",
    "    confer = pc_dic[int(paper[1:])]\n",
    "    temp = copy.deepcopy(confer_dic[confer])\n",
    "    temp.remove(paper)\n",
    "    return temp"
   ]
  },
  {
   "cell_type": "markdown",
   "metadata": {},
   "source": [
    "## 按引用和会议添加负样本"
   ]
  },
  {
   "cell_type": "code",
   "execution_count": null,
   "metadata": {},
   "outputs": [],
   "source": [
    "i = 0\n",
    "for author in ap_test.keys():\n",
    "    i += 1\n",
    "    full = False\n",
    "    for paper in ap_test[author]:\n",
    "        if full:\n",
    "            break\n",
    "        # 找该论文引用的论文，加到负样本中\n",
    "        for cit_p in Cit_Paper(paper):\n",
    "            if cit_p in ap_test[author]:\n",
    "                continue\n",
    "            try:\n",
    "                new = pd.DataFrame({'author':author,'paper':cit_p,'label':0},index=[1])\n",
    "                df_test = df_test.append(new,ignore_index=True)\n",
    "                count[author]+=1\n",
    "                if(count[author] == 50):\n",
    "                    full = True\n",
    "                    break\n",
    "            except:\n",
    "                continue\n",
    "        # 如果样本不够，再找同一个会议的论文，加入样本中\n",
    "        if not full:\n",
    "            for same_confer_p in Same_Confer_Paper(paper):\n",
    "                if same_confer_p in ap_test[author]:\n",
    "                    continue\n",
    "                try:\n",
    "                    new = pd.DataFrame({'author':author,'paper':same_confer_p,'label':0},index=[1])\n",
    "                    df_test = df_test.append(new,ignore_index=True)\n",
    "                    count[author]+=1\n",
    "                    if(count[author] == 50):\n",
    "                        full = True\n",
    "                        break\n",
    "                except:\n",
    "                    continue\n",
    "    if i % 100 == 0:\n",
    "        print(i)"
   ]
  },
  {
   "cell_type": "markdown",
   "metadata": {},
   "source": [
    "## 随机添加负样本"
   ]
  },
  {
   "cell_type": "code",
   "execution_count": 16,
   "metadata": {
    "scrolled": true
   },
   "outputs": [
    {
     "name": "stdout",
     "output_type": "stream",
     "text": [
      "1000\n",
      "2000\n",
      "3000\n",
      "4000\n",
      "5000\n",
      "6000\n",
      "7000\n",
      "8000\n",
      "9000\n",
      "10000\n"
     ]
    }
   ],
   "source": [
    "import random\n",
    "i = 0\n",
    "for a in count:\n",
    "    while(count[a] < 50):\n",
    "        temp = []\n",
    "        while(1):\n",
    "            p = dataset.paper[random.randint(0,len(dataset)-1)]\n",
    "            if p in ap_dic[a] or p in temp:\n",
    "                continue\n",
    "            else:\n",
    "                temp.append(p)\n",
    "                break\n",
    "        v = [multiply(t_dic[a],t_dic[p])]\n",
    "        new = pd.DataFrame({'author':a,'paper':p,'vector':v,'label':0},index=[1])\n",
    "        df_test = df_test.append(new,ignore_index=True)\n",
    "        count[a]+=1\n",
    "    i += 1\n",
    "    if(i%1000==0):\n",
    "        print(i)"
   ]
  },
  {
   "cell_type": "markdown",
   "metadata": {},
   "source": [
    "## 计算点积"
   ]
  },
  {
   "cell_type": "code",
   "execution_count": 13,
   "metadata": {},
   "outputs": [],
   "source": [
    "a = df_test.author.to_list()\n",
    "p = df_test.paper.to_list()\n",
    "mul = []\n",
    "for i in range(len(df_test)):\n",
    "    a = df_test.author[i]\n",
    "    p = df_test.paper[i]\n",
    "    v = multiply(t_dic[a],t_dic[p])\n",
    "    mul.append(v)\n",
    "\n",
    "df_test['vector'] = mul"
   ]
  },
  {
   "cell_type": "code",
   "execution_count": 17,
   "metadata": {},
   "outputs": [],
   "source": [
    "df_test = df_test.sort_values(by=\"author\" , ascending=False) #by 指定列 ascending\n",
    "df_test = df_test.reset_index(drop=True)"
   ]
  },
  {
   "cell_type": "code",
   "execution_count": 18,
   "metadata": {},
   "outputs": [],
   "source": [
    "# 将tensor转换成list\n",
    "def to_list(y):\n",
    "    y = y.cpu()\n",
    "    try:\n",
    "        y = y.numpy()\n",
    "    except:\n",
    "        y = y.detach().numpy()\n",
    "    y = y.astype(np.float).tolist()\n",
    "    y = [y[i][0] for i in range(len(y))]\n",
    "    return y\n",
    "def HR_score(y_true, y_pred, k, truncate=False):\n",
    "    n_positive = y_true.tolist().count(1)\n",
    "    # make sure y_true and y_pred have the same length\n",
    "    assert len(y_true) == len(y_pred)\n",
    "    assert k > 0 and n_positive > 0\n",
    "\n",
    "    # truncate y_true and y_pred according to k and pos num\n",
    "    if truncate:\n",
    "        topk = min(k, y_true.tolist().count(1))\n",
    "    else:\n",
    "        topk = k\n",
    "    order = np.argsort(y_pred, kind=\"stable\")[-topk:][::-1]\n",
    "    y_true = y_true[order]\n",
    "\n",
    "    return (y_true > 0).sum() / n_positive\n",
    "\n",
    "def DCG_score(y_true, y_pred, k, truncate=False):\n",
    "    # make sure y_true and y_pred have the same length\n",
    "    assert len(y_true) == len(y_pred)\n",
    "    assert k > 0 and y_true.tolist().count(1) > 0\n",
    "\n",
    "    # truncate y_true and y_pred according to k and pos num\n",
    "    if truncate:\n",
    "        topk = min(k, y_true.tolist().count(1))\n",
    "    else:\n",
    "        topk = k\n",
    "    order = np.argsort(y_pred, kind=\"stable\")[-topk:][::-1]\n",
    "    y_true = y_true[order]\n",
    "\n",
    "    # linear gain, not seansitive to position\n",
    "    # gains = y_true\n",
    "    # exponential gain, seansitive to position\n",
    "    gains = 2 ** y_true - 1\n",
    "\n",
    "    # highest rank is 1 so +2 instead of +1\n",
    "    discounts = np.log2(np.arange(len(y_true)) + 2)\n",
    "\n",
    "    # return DCG@k\n",
    "    return np.sum(gains / discounts)\n",
    "\n",
    "def nDCG_score(y_true, y_pred, k):\n",
    "    best = DCG_score(y_true, y_true, k)\n",
    "    real = DCG_score(y_true, y_pred, k)\n",
    "    # return nDCG@k\n",
    "    return real / best if best != 0 else 0\n",
    "\n",
    "# %%\n",
    "def evaluate(y_true, y_pred, k, length=50):\n",
    "    NDCG, HR, total = 0.0, 0.0, 0\n",
    "\n",
    "    for i in range(0, len(y_true), length):\n",
    "        total += 1\n",
    "\n",
    "        cur_y_true = y_true[i : i+length]\n",
    "        cur_y_pred = y_pred[i : i+length]\n",
    "\n",
    "        NDCG += nDCG_score(cur_y_true, cur_y_pred, k)\n",
    "        HR   += HR_score  (cur_y_true, cur_y_pred, k)\n",
    "    \n",
    "    return NDCG / total, HR / total"
   ]
  },
  {
   "cell_type": "code",
   "execution_count": 19,
   "metadata": {},
   "outputs": [],
   "source": [
    "device = torch.device(\"cuda:1\" if torch.cuda.is_available() else \"cpu\")\n",
    "x_test = torch.Tensor(df_test.vector)\n",
    "y_test = torch.from_numpy(df_test.label.values.reshape(-1,1).astype(np.float32))\n",
    "# 放在GPU中运算\n",
    "\n",
    "x_test = x_test.to(device)\n",
    "y_test = y_test.to(device)\n",
    "model = model.to(device)"
   ]
  },
  {
   "cell_type": "code",
   "execution_count": 20,
   "metadata": {},
   "outputs": [],
   "source": [
    "y_pred = model(x_test)\n",
    "y_true = np.array(to_list(y_test))\n",
    "y_p = np.array(to_list(y_pred))"
   ]
  },
  {
   "cell_type": "code",
   "execution_count": 21,
   "metadata": {},
   "outputs": [
    {
     "name": "stdout",
     "output_type": "stream",
     "text": [
      "k:  5    NDCG:  0.5646329214299596 HR:  0.6697452003362074\n",
      "k:  6    NDCG:  0.5803189363633087 HR:  0.7105670702658626\n",
      "k:  7    NDCG:  0.5926999842568663 HR:  0.7438664149135485\n",
      "k:  8    NDCG:  0.6028582812213075 HR:  0.7723349671000992\n",
      "k:  9    NDCG:  0.6117881470374897 HR:  0.7983694728668717\n",
      "k:  10    NDCG:  0.6188377182743429 HR:  0.8192095685325907\n"
     ]
    }
   ],
   "source": [
    "for k in range(5,11):\n",
    "    ndcg, hr = evaluate(y_true,y_p,k)\n",
    "    print('k: ', k, '  ','NDCG: ',ndcg, 'HR: ', hr)"
   ]
  },
  {
   "cell_type": "code",
   "execution_count": 14,
   "metadata": {},
   "outputs": [
    {
     "data": {
      "text/html": [
       "<div>\n",
       "<style scoped>\n",
       "    .dataframe tbody tr th:only-of-type {\n",
       "        vertical-align: middle;\n",
       "    }\n",
       "\n",
       "    .dataframe tbody tr th {\n",
       "        vertical-align: top;\n",
       "    }\n",
       "\n",
       "    .dataframe thead th {\n",
       "        text-align: right;\n",
       "    }\n",
       "</style>\n",
       "<table border=\"1\" class=\"dataframe\">\n",
       "  <thead>\n",
       "    <tr style=\"text-align: right;\">\n",
       "      <th></th>\n",
       "      <th>author</th>\n",
       "      <th>paper</th>\n",
       "      <th>label</th>\n",
       "    </tr>\n",
       "  </thead>\n",
       "  <tbody>\n",
       "    <tr>\n",
       "      <th>0</th>\n",
       "      <td>a678283</td>\n",
       "      <td>p782</td>\n",
       "      <td>1</td>\n",
       "    </tr>\n",
       "    <tr>\n",
       "      <th>1</th>\n",
       "      <td>a644976</td>\n",
       "      <td>p872</td>\n",
       "      <td>1</td>\n",
       "    </tr>\n",
       "    <tr>\n",
       "      <th>2</th>\n",
       "      <td>a107969</td>\n",
       "      <td>p872</td>\n",
       "      <td>1</td>\n",
       "    </tr>\n",
       "    <tr>\n",
       "      <th>3</th>\n",
       "      <td>a16959</td>\n",
       "      <td>p977</td>\n",
       "      <td>1</td>\n",
       "    </tr>\n",
       "    <tr>\n",
       "      <th>4</th>\n",
       "      <td>a500399</td>\n",
       "      <td>p1014</td>\n",
       "      <td>1</td>\n",
       "    </tr>\n",
       "    <tr>\n",
       "      <th>...</th>\n",
       "      <td>...</td>\n",
       "      <td>...</td>\n",
       "      <td>...</td>\n",
       "    </tr>\n",
       "    <tr>\n",
       "      <th>163067</th>\n",
       "      <td>a19813</td>\n",
       "      <td>p1311670</td>\n",
       "      <td>0</td>\n",
       "    </tr>\n",
       "    <tr>\n",
       "      <th>163068</th>\n",
       "      <td>a782515</td>\n",
       "      <td>p1531699</td>\n",
       "      <td>0</td>\n",
       "    </tr>\n",
       "    <tr>\n",
       "      <th>163069</th>\n",
       "      <td>a1456526</td>\n",
       "      <td>p1491086</td>\n",
       "      <td>0</td>\n",
       "    </tr>\n",
       "    <tr>\n",
       "      <th>163070</th>\n",
       "      <td>a688</td>\n",
       "      <td>p1693866</td>\n",
       "      <td>0</td>\n",
       "    </tr>\n",
       "    <tr>\n",
       "      <th>163071</th>\n",
       "      <td>a573987</td>\n",
       "      <td>p1274894</td>\n",
       "      <td>0</td>\n",
       "    </tr>\n",
       "  </tbody>\n",
       "</table>\n",
       "<p>163072 rows × 3 columns</p>\n",
       "</div>"
      ],
      "text/plain": [
       "          author     paper  label\n",
       "0        a678283      p782      1\n",
       "1        a644976      p872      1\n",
       "2        a107969      p872      1\n",
       "3         a16959      p977      1\n",
       "4        a500399     p1014      1\n",
       "...          ...       ...    ...\n",
       "163067    a19813  p1311670      0\n",
       "163068   a782515  p1531699      0\n",
       "163069  a1456526  p1491086      0\n",
       "163070      a688  p1693866      0\n",
       "163071   a573987  p1274894      0\n",
       "\n",
       "[163072 rows x 3 columns]"
      ]
     },
     "execution_count": 14,
     "metadata": {},
     "output_type": "execute_result"
    }
   ],
   "source": [
    "df_train = df_train.sort_index(ascending=True)\n",
    "df_train"
   ]
  },
  {
   "cell_type": "code",
   "execution_count": 19,
   "metadata": {},
   "outputs": [],
   "source": [
    "df_train.to_pickle('/home/duyongkang/PaperRec/Data/Train_1feature.pkl')"
   ]
  },
  {
   "cell_type": "code",
   "execution_count": null,
   "metadata": {},
   "outputs": [],
   "source": [
    "df_test.to_pickle('home/duyongkang/PaperRec/Data/Glove_test.pkl')"
   ]
  }
 ],
 "metadata": {
  "kernelspec": {
   "display_name": "Python 3",
   "language": "python",
   "name": "python3"
  },
  "language_info": {
   "codemirror_mode": {
    "name": "ipython",
    "version": 3
   },
   "file_extension": ".py",
   "mimetype": "text/x-python",
   "name": "python",
   "nbconvert_exporter": "python",
   "pygments_lexer": "ipython3",
   "version": "3.6.12"
  }
 },
 "nbformat": 4,
 "nbformat_minor": 4
}
