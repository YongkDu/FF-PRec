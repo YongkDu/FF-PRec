{
 "cells": [
  {
   "cell_type": "code",
   "execution_count": 30,
   "metadata": {},
   "outputs": [],
   "source": [
    "import torch\n",
    "from torch import nn\n",
    "import pandas as pd\n",
    "import numpy as np"
   ]
  },
  {
   "cell_type": "code",
   "execution_count": 31,
   "metadata": {},
   "outputs": [],
   "source": [
    "graph_input = '/home/duyongkang/OpenHINE-master/output/embedding/HeteSpaceyWalk/Aminer_apcpa.csv'\n",
    "data_g = pd.read_table(graph_input,header=None)"
   ]
  },
  {
   "cell_type": "code",
   "execution_count": 32,
   "metadata": {},
   "outputs": [
    {
     "data": {
      "text/html": [
       "<div>\n",
       "<style scoped>\n",
       "    .dataframe tbody tr th:only-of-type {\n",
       "        vertical-align: middle;\n",
       "    }\n",
       "\n",
       "    .dataframe tbody tr th {\n",
       "        vertical-align: top;\n",
       "    }\n",
       "\n",
       "    .dataframe thead th {\n",
       "        text-align: right;\n",
       "    }\n",
       "</style>\n",
       "<table border=\"1\" class=\"dataframe\">\n",
       "  <thead>\n",
       "    <tr style=\"text-align: right;\">\n",
       "      <th></th>\n",
       "      <th>0</th>\n",
       "    </tr>\n",
       "  </thead>\n",
       "  <tbody>\n",
       "    <tr>\n",
       "      <th>0</th>\n",
       "      <td>125574 64</td>\n",
       "    </tr>\n",
       "    <tr>\n",
       "      <th>1</th>\n",
       "      <td>a1000410, -0.047010742 -0.01127207 -0.03389261...</td>\n",
       "    </tr>\n",
       "    <tr>\n",
       "      <th>2</th>\n",
       "      <td>p1875103, 0.02995107 -0.014640232 0.03744536 -...</td>\n",
       "    </tr>\n",
       "    <tr>\n",
       "      <th>3</th>\n",
       "      <td>c10016798, 0.004560482 -0.020806702 0.02339840...</td>\n",
       "    </tr>\n",
       "    <tr>\n",
       "      <th>4</th>\n",
       "      <td>p1620241, -0.079635724 0.012887876 -0.06746629...</td>\n",
       "    </tr>\n",
       "    <tr>\n",
       "      <th>...</th>\n",
       "      <td>...</td>\n",
       "    </tr>\n",
       "    <tr>\n",
       "      <th>125570</th>\n",
       "      <td>c10046418, -0.0029961853 -0.009829705 0.015622...</td>\n",
       "    </tr>\n",
       "    <tr>\n",
       "      <th>125571</th>\n",
       "      <td>p1064215, 0.011798064 -0.0013229302 -0.0153869...</td>\n",
       "    </tr>\n",
       "    <tr>\n",
       "      <th>125572</th>\n",
       "      <td>c10037915, -0.0015808861 -0.010972348 0.004180...</td>\n",
       "    </tr>\n",
       "    <tr>\n",
       "      <th>125573</th>\n",
       "      <td>p733589, -0.0012735142 -0.0045442763 -0.012570...</td>\n",
       "    </tr>\n",
       "    <tr>\n",
       "      <th>125574</th>\n",
       "      <td>c10030666, -0.011840184 -0.0059485785 0.013488...</td>\n",
       "    </tr>\n",
       "  </tbody>\n",
       "</table>\n",
       "<p>125575 rows × 1 columns</p>\n",
       "</div>"
      ],
      "text/plain": [
       "                                                        0\n",
       "0                                               125574 64\n",
       "1       a1000410, -0.047010742 -0.01127207 -0.03389261...\n",
       "2       p1875103, 0.02995107 -0.014640232 0.03744536 -...\n",
       "3       c10016798, 0.004560482 -0.020806702 0.02339840...\n",
       "4       p1620241, -0.079635724 0.012887876 -0.06746629...\n",
       "...                                                   ...\n",
       "125570  c10046418, -0.0029961853 -0.009829705 0.015622...\n",
       "125571  p1064215, 0.011798064 -0.0013229302 -0.0153869...\n",
       "125572  c10037915, -0.0015808861 -0.010972348 0.004180...\n",
       "125573  p733589, -0.0012735142 -0.0045442763 -0.012570...\n",
       "125574  c10030666, -0.011840184 -0.0059485785 0.013488...\n",
       "\n",
       "[125575 rows x 1 columns]"
      ]
     },
     "execution_count": 32,
     "metadata": {},
     "output_type": "execute_result"
    }
   ],
   "source": [
    "data_g"
   ]
  },
  {
   "cell_type": "code",
   "execution_count": 33,
   "metadata": {},
   "outputs": [],
   "source": [
    "data_g = data_g.drop([0])\n",
    "data_g.columns = ['vector']\n",
    "data_g"
   ]
  },
  {
   "cell_type": "code",
   "execution_count": 35,
   "metadata": {},
   "outputs": [],
   "source": [
    "data_g = pd.DataFrame(data_g.vector.str.split(', ',1).tolist(), columns = ['node','vector'])"
   ]
  },
  {
   "cell_type": "code",
   "execution_count": 36,
   "metadata": {
    "scrolled": true
   },
   "outputs": [
    {
     "data": {
      "text/html": [
       "<div>\n",
       "<style scoped>\n",
       "    .dataframe tbody tr th:only-of-type {\n",
       "        vertical-align: middle;\n",
       "    }\n",
       "\n",
       "    .dataframe tbody tr th {\n",
       "        vertical-align: top;\n",
       "    }\n",
       "\n",
       "    .dataframe thead th {\n",
       "        text-align: right;\n",
       "    }\n",
       "</style>\n",
       "<table border=\"1\" class=\"dataframe\">\n",
       "  <thead>\n",
       "    <tr style=\"text-align: right;\">\n",
       "      <th></th>\n",
       "      <th>node</th>\n",
       "      <th>vector</th>\n",
       "    </tr>\n",
       "  </thead>\n",
       "  <tbody>\n",
       "    <tr>\n",
       "      <th>0</th>\n",
       "      <td>a1000410</td>\n",
       "      <td>-0.047010742 -0.01127207 -0.03389261 -0.050438...</td>\n",
       "    </tr>\n",
       "    <tr>\n",
       "      <th>1</th>\n",
       "      <td>p1875103</td>\n",
       "      <td>0.02995107 -0.014640232 0.03744536 -0.07289062...</td>\n",
       "    </tr>\n",
       "    <tr>\n",
       "      <th>2</th>\n",
       "      <td>c10016798</td>\n",
       "      <td>0.004560482 -0.020806702 0.023398407 -0.031048...</td>\n",
       "    </tr>\n",
       "    <tr>\n",
       "      <th>3</th>\n",
       "      <td>p1620241</td>\n",
       "      <td>-0.079635724 0.012887876 -0.06746629 -0.077529...</td>\n",
       "    </tr>\n",
       "    <tr>\n",
       "      <th>4</th>\n",
       "      <td>c10056052</td>\n",
       "      <td>-0.077318095 0.04209355 -0.07433787 -0.0657544...</td>\n",
       "    </tr>\n",
       "    <tr>\n",
       "      <th>...</th>\n",
       "      <td>...</td>\n",
       "      <td>...</td>\n",
       "    </tr>\n",
       "    <tr>\n",
       "      <th>125569</th>\n",
       "      <td>c10046418</td>\n",
       "      <td>-0.0029961853 -0.009829705 0.015622602 -0.0053...</td>\n",
       "    </tr>\n",
       "    <tr>\n",
       "      <th>125570</th>\n",
       "      <td>p1064215</td>\n",
       "      <td>0.011798064 -0.0013229302 -0.015386949 -0.0025...</td>\n",
       "    </tr>\n",
       "    <tr>\n",
       "      <th>125571</th>\n",
       "      <td>c10037915</td>\n",
       "      <td>-0.0015808861 -0.010972348 0.0041802586 0.0058...</td>\n",
       "    </tr>\n",
       "    <tr>\n",
       "      <th>125572</th>\n",
       "      <td>p733589</td>\n",
       "      <td>-0.0012735142 -0.0045442763 -0.012570745 0.012...</td>\n",
       "    </tr>\n",
       "    <tr>\n",
       "      <th>125573</th>\n",
       "      <td>c10030666</td>\n",
       "      <td>-0.011840184 -0.0059485785 0.013488022 0.01556...</td>\n",
       "    </tr>\n",
       "  </tbody>\n",
       "</table>\n",
       "<p>125574 rows × 2 columns</p>\n",
       "</div>"
      ],
      "text/plain": [
       "             node                                             vector\n",
       "0        a1000410  -0.047010742 -0.01127207 -0.03389261 -0.050438...\n",
       "1        p1875103  0.02995107 -0.014640232 0.03744536 -0.07289062...\n",
       "2       c10016798  0.004560482 -0.020806702 0.023398407 -0.031048...\n",
       "3        p1620241  -0.079635724 0.012887876 -0.06746629 -0.077529...\n",
       "4       c10056052  -0.077318095 0.04209355 -0.07433787 -0.0657544...\n",
       "...           ...                                                ...\n",
       "125569  c10046418  -0.0029961853 -0.009829705 0.015622602 -0.0053...\n",
       "125570   p1064215  0.011798064 -0.0013229302 -0.015386949 -0.0025...\n",
       "125571  c10037915  -0.0015808861 -0.010972348 0.0041802586 0.0058...\n",
       "125572    p733589  -0.0012735142 -0.0045442763 -0.012570745 0.012...\n",
       "125573  c10030666  -0.011840184 -0.0059485785 0.013488022 0.01556...\n",
       "\n",
       "[125574 rows x 2 columns]"
      ]
     },
     "execution_count": 36,
     "metadata": {},
     "output_type": "execute_result"
    }
   ],
   "source": [
    "data_g"
   ]
  },
  {
   "cell_type": "code",
   "execution_count": 37,
   "metadata": {},
   "outputs": [
    {
     "data": {
      "text/plain": [
       "'-0.047010742 -0.01127207 -0.03389261 -0.050438598 0.06886492 -0.051866565 -0.0077988803 0.025883455 -0.05800998 0.067601256 0.005621222 -0.04138916 0.05200212 0.020195719 0.05152808 0.028397733 0.0042567817 -0.0050190585 0.06263264 0.00040190274 0.00020862278 -0.06722701 -0.011581853 -0.009595957 0.05083349 0.009856005 0.00018376477 -0.0005393986 0.014762743 0.023363804 0.030227732 0.013976644 -0.018289566 -0.048649732 -0.04488058 -0.05403033 -0.043085016 0.009314139 0.01874831 -0.06840615 0.01033716 -0.06311266 -0.0108762365 0.047268067 -0.021560097 -0.07079068 0.07255289 -0.06601108 0.030756338 -0.022177355 -0.0494977 -0.007930858 -0.003986073 -0.03404597 -0.005345234 -0.0016537721 -0.009395459 -0.012697596 -0.06851957 0.017174015 0.05751238 -0.009390576 0.015005932 -0.02215578'"
      ]
     },
     "execution_count": 37,
     "metadata": {},
     "output_type": "execute_result"
    }
   ],
   "source": [
    "data_g.vector[0]"
   ]
  },
  {
   "cell_type": "code",
   "execution_count": 38,
   "metadata": {
    "scrolled": false
   },
   "outputs": [
    {
     "name": "stdout",
     "output_type": "stream",
     "text": [
      "0\n",
      "5000\n",
      "10000\n",
      "15000\n",
      "20000\n",
      "25000\n",
      "30000\n",
      "35000\n",
      "40000\n",
      "45000\n",
      "50000\n",
      "55000\n",
      "60000\n",
      "65000\n",
      "70000\n",
      "75000\n",
      "80000\n",
      "85000\n",
      "90000\n",
      "95000\n",
      "100000\n",
      "105000\n",
      "110000\n",
      "115000\n",
      "120000\n",
      "125000\n"
     ]
    }
   ],
   "source": [
    "for i in range(len(data_g)):\n",
    "    list_1 = data_g.vector[i].split(' ')\n",
    "    list_1 = [float(x) for x in list_1]\n",
    "    data_g.vector[i] = list_1\n",
    "    if i%5000 == 0:\n",
    "        print(i)"
   ]
  },
  {
   "cell_type": "code",
   "execution_count": 39,
   "metadata": {},
   "outputs": [
    {
     "data": {
      "text/html": [
       "<div>\n",
       "<style scoped>\n",
       "    .dataframe tbody tr th:only-of-type {\n",
       "        vertical-align: middle;\n",
       "    }\n",
       "\n",
       "    .dataframe tbody tr th {\n",
       "        vertical-align: top;\n",
       "    }\n",
       "\n",
       "    .dataframe thead th {\n",
       "        text-align: right;\n",
       "    }\n",
       "</style>\n",
       "<table border=\"1\" class=\"dataframe\">\n",
       "  <thead>\n",
       "    <tr style=\"text-align: right;\">\n",
       "      <th></th>\n",
       "      <th>node</th>\n",
       "      <th>vector</th>\n",
       "    </tr>\n",
       "  </thead>\n",
       "  <tbody>\n",
       "    <tr>\n",
       "      <th>0</th>\n",
       "      <td>a1000410</td>\n",
       "      <td>[-0.047010742, -0.01127207, -0.03389261, -0.05...</td>\n",
       "    </tr>\n",
       "    <tr>\n",
       "      <th>1</th>\n",
       "      <td>p1875103</td>\n",
       "      <td>[0.02995107, -0.014640232, 0.03744536, -0.0728...</td>\n",
       "    </tr>\n",
       "    <tr>\n",
       "      <th>2</th>\n",
       "      <td>c10016798</td>\n",
       "      <td>[0.004560482, -0.020806702, 0.023398407, -0.03...</td>\n",
       "    </tr>\n",
       "    <tr>\n",
       "      <th>3</th>\n",
       "      <td>p1620241</td>\n",
       "      <td>[-0.079635724, 0.012887876, -0.06746629, -0.07...</td>\n",
       "    </tr>\n",
       "    <tr>\n",
       "      <th>4</th>\n",
       "      <td>c10056052</td>\n",
       "      <td>[-0.077318095, 0.04209355, -0.07433787, -0.065...</td>\n",
       "    </tr>\n",
       "    <tr>\n",
       "      <th>...</th>\n",
       "      <td>...</td>\n",
       "      <td>...</td>\n",
       "    </tr>\n",
       "    <tr>\n",
       "      <th>125569</th>\n",
       "      <td>c10046418</td>\n",
       "      <td>[-0.0029961853, -0.009829705, 0.015622602, -0....</td>\n",
       "    </tr>\n",
       "    <tr>\n",
       "      <th>125570</th>\n",
       "      <td>p1064215</td>\n",
       "      <td>[0.011798064, -0.0013229302, -0.015386949, -0....</td>\n",
       "    </tr>\n",
       "    <tr>\n",
       "      <th>125571</th>\n",
       "      <td>c10037915</td>\n",
       "      <td>[-0.0015808861, -0.010972348, 0.0041802586, 0....</td>\n",
       "    </tr>\n",
       "    <tr>\n",
       "      <th>125572</th>\n",
       "      <td>p733589</td>\n",
       "      <td>[-0.0012735142, -0.0045442763, -0.012570745, 0...</td>\n",
       "    </tr>\n",
       "    <tr>\n",
       "      <th>125573</th>\n",
       "      <td>c10030666</td>\n",
       "      <td>[-0.011840184, -0.0059485785, 0.013488022, 0.0...</td>\n",
       "    </tr>\n",
       "  </tbody>\n",
       "</table>\n",
       "<p>125574 rows × 2 columns</p>\n",
       "</div>"
      ],
      "text/plain": [
       "             node                                             vector\n",
       "0        a1000410  [-0.047010742, -0.01127207, -0.03389261, -0.05...\n",
       "1        p1875103  [0.02995107, -0.014640232, 0.03744536, -0.0728...\n",
       "2       c10016798  [0.004560482, -0.020806702, 0.023398407, -0.03...\n",
       "3        p1620241  [-0.079635724, 0.012887876, -0.06746629, -0.07...\n",
       "4       c10056052  [-0.077318095, 0.04209355, -0.07433787, -0.065...\n",
       "...           ...                                                ...\n",
       "125569  c10046418  [-0.0029961853, -0.009829705, 0.015622602, -0....\n",
       "125570   p1064215  [0.011798064, -0.0013229302, -0.015386949, -0....\n",
       "125571  c10037915  [-0.0015808861, -0.010972348, 0.0041802586, 0....\n",
       "125572    p733589  [-0.0012735142, -0.0045442763, -0.012570745, 0...\n",
       "125573  c10030666  [-0.011840184, -0.0059485785, 0.013488022, 0.0...\n",
       "\n",
       "[125574 rows x 2 columns]"
      ]
     },
     "execution_count": 39,
     "metadata": {},
     "output_type": "execute_result"
    }
   ],
   "source": [
    "data_g"
   ]
  },
  {
   "cell_type": "code",
   "execution_count": 40,
   "metadata": {},
   "outputs": [],
   "source": [
    "data_g.to_pickle('/home/duyongkang/test/model/data/HeteSpaceyWalk.pkl')"
   ]
  },
  {
   "cell_type": "code",
   "execution_count": 41,
   "metadata": {},
   "outputs": [
    {
     "data": {
      "text/plain": [
       "64"
      ]
     },
     "execution_count": 41,
     "metadata": {},
     "output_type": "execute_result"
    }
   ],
   "source": [
    "len(data_g.vector[0])"
   ]
  }
 ],
 "metadata": {
  "kernelspec": {
   "display_name": "Python 3",
   "language": "python",
   "name": "python3"
  },
  "language_info": {
   "codemirror_mode": {
    "name": "ipython",
    "version": 3
   },
   "file_extension": ".py",
   "mimetype": "text/x-python",
   "name": "python",
   "nbconvert_exporter": "python",
   "pygments_lexer": "ipython3",
   "version": "3.6.12"
  }
 },
 "nbformat": 4,
 "nbformat_minor": 4
}
